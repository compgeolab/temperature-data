{
 "cells": [
  {
   "cell_type": "markdown",
   "metadata": {},
   "source": [
    "# Use the table of country names and links to download all the data\n",
    "\n",
    "The [country list in Berkley Earth](http://berkeleyearth.lbl.gov/country-list/) contains a mapping of the country names and their representation of the name in URLs and file names. We'll mine this for country names and use them to generate direct links to the average temperature time series files. The download is managed by [Pooch](https://www.fatiando.org/pooch/)."
   ]
  },
  {
   "cell_type": "code",
   "execution_count": 1,
   "metadata": {},
   "outputs": [],
   "source": [
    "from pathlib import Path\n",
    "import urllib.parse\n",
    "from bs4 import BeautifulSoup\n",
    "from tqdm import tqdm\n",
    "import pooch"
   ]
  },
  {
   "cell_type": "markdown",
   "metadata": {},
   "source": [
    "Set the Pooch logging level so that it doesn't print out a message for every single time we download."
   ]
  },
  {
   "cell_type": "code",
   "execution_count": 2,
   "metadata": {},
   "outputs": [],
   "source": [
    "logger = pooch.get_logger()\n",
    "logger.setLevel(\"WARNING\")"
   ]
  },
  {
   "cell_type": "markdown",
   "metadata": {},
   "source": [
    "Create a folder for the raw data (if it doesn't exist)."
   ]
  },
  {
   "cell_type": "code",
   "execution_count": 3,
   "metadata": {},
   "outputs": [],
   "source": [
    "output_dir = Path(\"../data/raw\")\n",
    "output_dir.mkdir(parents=True, exist_ok=True)"
   ]
  },
  {
   "cell_type": "markdown",
   "metadata": {},
   "source": [
    "Download the HTML table from the website."
   ]
  },
  {
   "cell_type": "code",
   "execution_count": 4,
   "metadata": {},
   "outputs": [],
   "source": [
    "html_path = pooch.retrieve(\n",
    "    url=\"http://berkeleyearth.lbl.gov/country-list/\",\n",
    "    known_hash=None,\n",
    "    path=output_dir, \n",
    "    fname=\"country-list.html\",\n",
    ")"
   ]
  },
  {
   "cell_type": "markdown",
   "metadata": {},
   "source": [
    "Load the HTML into [BeatifulSoup](https://beautiful-soup-4.readthedocs.io/en/latest/) so we can parse the content and isolate the links from the table."
   ]
  },
  {
   "cell_type": "code",
   "execution_count": 5,
   "metadata": {},
   "outputs": [],
   "source": [
    "with open(html_path) as file_pointer:\n",
    "    html = BeautifulSoup(file_pointer)"
   ]
  },
  {
   "cell_type": "markdown",
   "metadata": {},
   "source": [
    "Get a list of the country IDs (the name used in the Berkeley Earth URLs). To do this, find all table row definitions (`tr`) and skip the first since it defines the table header. Then, get the link (`a`) from the first element (`td`) of the row and keep only the last part of the URL."
   ]
  },
  {
   "cell_type": "code",
   "execution_count": 6,
   "metadata": {},
   "outputs": [
    {
     "data": {
      "text/plain": [
       "['afghanistan',\n",
       " 'albania',\n",
       " 'algeria',\n",
       " 'american-samoa',\n",
       " 'andorra',\n",
       " 'angola',\n",
       " 'anguilla',\n",
       " 'antarctica',\n",
       " 'antigua-and-barbuda',\n",
       " 'argentina']"
      ]
     },
     "execution_count": 6,
     "metadata": {},
     "output_type": "execute_result"
    }
   ],
   "source": [
    "names = sorted(tr.td.a[\"href\"].split(\"/\")[-1] for tr in html.table.find_all(\"tr\")[1:])\n",
    "names[:10]"
   ]
  },
  {
   "cell_type": "markdown",
   "metadata": {},
   "source": [
    "The base URL is the same for all of them, we only needed to know the name of the country (as it appears in the URL), which we got in the last step. The only trick now is quoting the special characters in the country names to make them safe for use in URLs. The detail is that Berkeley Earth seems to use Latin1 encodings for everything instead of UTF-8.\n",
    "\n",
    "Some european contries have data both for their continental areas as well as their extended territories. We only want the continental parts. To do that, we'll generate a list of URLs and replace the URL for these special cases."
   ]
  },
  {
   "cell_type": "code",
   "execution_count": 7,
   "metadata": {},
   "outputs": [
    {
     "name": "stdout",
     "output_type": "stream",
     "text": [
      "http://berkeleyearth.lbl.gov/auto/Regional/TAVG/Text/denmark-%28europe%29-TAVG-Trend.txt\n",
      "http://berkeleyearth.lbl.gov/auto/Regional/TAVG/Text/france-%28europe%29-TAVG-Trend.txt\n",
      "http://berkeleyearth.lbl.gov/auto/Regional/TAVG/Text/united-kingdom-%28europe%29-TAVG-Trend.txt\n"
     ]
    }
   ],
   "source": [
    "base_url = \"http://berkeleyearth.lbl.gov/auto/Regional/TAVG/Text/{country}-TAVG-Trend.txt\"\n",
    "\n",
    "url = {}\n",
    "for country in names:\n",
    "    if country not in url:\n",
    "        url[country.replace(\"-(europe)\", \"\")] = base_url.format(country=urllib.parse.quote(country, encoding=\"latin1\"))\n",
    "        \n",
    "for country in [\"denmark\", \"france\", \"united-kingdom\"]:\n",
    "    print(url[country])"
   ]
  },
  {
   "cell_type": "markdown",
   "metadata": {},
   "source": [
    "Now we can download the data files for all countries. "
   ]
  },
  {
   "cell_type": "code",
   "execution_count": 8,
   "metadata": {},
   "outputs": [
    {
     "name": "stderr",
     "output_type": "stream",
     "text": [
      "100%|█████████████████████████████████████████████████████████████| 233/233 [03:02<00:00,  1.27it/s]"
     ]
    },
    {
     "name": "stdout",
     "output_type": "stream",
     "text": [
      "CPU times: user 3.97 s, sys: 672 ms, total: 4.64 s\n",
      "Wall time: 3min 2s\n"
     ]
    },
    {
     "name": "stderr",
     "output_type": "stream",
     "text": [
      "\n"
     ]
    }
   ],
   "source": [
    "%%time\n",
    "for country in tqdm(url, ncols=100):\n",
    "    pooch.retrieve(\n",
    "        url[country],\n",
    "        known_hash=None,\n",
    "        path=output_dir,\n",
    "        fname=f\"{country}.txt\",\n",
    "    )"
   ]
  },
  {
   "cell_type": "markdown",
   "metadata": {},
   "source": [
    "Now we have a folder full of files with the country data."
   ]
  },
  {
   "cell_type": "code",
   "execution_count": 9,
   "metadata": {},
   "outputs": [
    {
     "data": {
      "text/plain": [
       "[PosixPath('../data/raw/afghanistan.txt'),\n",
       " PosixPath('../data/raw/albania.txt'),\n",
       " PosixPath('../data/raw/algeria.txt'),\n",
       " PosixPath('../data/raw/american-samoa.txt'),\n",
       " PosixPath('../data/raw/andorra.txt'),\n",
       " PosixPath('../data/raw/angola.txt'),\n",
       " PosixPath('../data/raw/anguilla.txt'),\n",
       " PosixPath('../data/raw/antarctica.txt'),\n",
       " PosixPath('../data/raw/antigua-and-barbuda.txt'),\n",
       " PosixPath('../data/raw/argentina.txt'),\n",
       " PosixPath('../data/raw/armenia.txt'),\n",
       " PosixPath('../data/raw/aruba.txt'),\n",
       " PosixPath('../data/raw/australia.txt'),\n",
       " PosixPath('../data/raw/austria.txt'),\n",
       " PosixPath('../data/raw/azerbaijan.txt'),\n",
       " PosixPath('../data/raw/bahamas.txt'),\n",
       " PosixPath('../data/raw/bahrain.txt'),\n",
       " PosixPath('../data/raw/baker-island.txt'),\n",
       " PosixPath('../data/raw/bangladesh.txt'),\n",
       " PosixPath('../data/raw/barbados.txt'),\n",
       " PosixPath('../data/raw/belarus.txt'),\n",
       " PosixPath('../data/raw/belgium.txt'),\n",
       " PosixPath('../data/raw/belize.txt'),\n",
       " PosixPath('../data/raw/benin.txt'),\n",
       " PosixPath('../data/raw/bhutan.txt'),\n",
       " PosixPath('../data/raw/bolivia.txt'),\n",
       " PosixPath('../data/raw/bonaire,-saint-eustatius-and-saba.txt'),\n",
       " PosixPath('../data/raw/bosnia-and-herzegovina.txt'),\n",
       " PosixPath('../data/raw/botswana.txt'),\n",
       " PosixPath('../data/raw/brazil.txt'),\n",
       " PosixPath('../data/raw/british-virgin-islands.txt'),\n",
       " PosixPath('../data/raw/bulgaria.txt'),\n",
       " PosixPath('../data/raw/burkina-faso.txt'),\n",
       " PosixPath('../data/raw/burma.txt'),\n",
       " PosixPath('../data/raw/burundi.txt'),\n",
       " PosixPath('../data/raw/cambodia.txt'),\n",
       " PosixPath('../data/raw/cameroon.txt'),\n",
       " PosixPath('../data/raw/canada.txt'),\n",
       " PosixPath('../data/raw/cape-verde.txt'),\n",
       " PosixPath('../data/raw/cayman-islands.txt'),\n",
       " PosixPath('../data/raw/central-african-republic.txt'),\n",
       " PosixPath('../data/raw/chad.txt'),\n",
       " PosixPath('../data/raw/chile.txt'),\n",
       " PosixPath('../data/raw/china.txt'),\n",
       " PosixPath('../data/raw/christmas-island.txt'),\n",
       " PosixPath('../data/raw/colombia.txt'),\n",
       " PosixPath('../data/raw/comoros.txt'),\n",
       " PosixPath('../data/raw/congo-(democratic-republic-of-the).txt'),\n",
       " PosixPath('../data/raw/congo.txt'),\n",
       " PosixPath('../data/raw/costa-rica.txt'),\n",
       " PosixPath('../data/raw/croatia.txt'),\n",
       " PosixPath('../data/raw/cuba.txt'),\n",
       " PosixPath('../data/raw/curaçao.txt'),\n",
       " PosixPath('../data/raw/cyprus.txt'),\n",
       " PosixPath('../data/raw/czech-republic.txt'),\n",
       " PosixPath(\"../data/raw/côte-d'ivoire.txt\"),\n",
       " PosixPath('../data/raw/denmark.txt'),\n",
       " PosixPath('../data/raw/djibouti.txt'),\n",
       " PosixPath('../data/raw/dominica.txt'),\n",
       " PosixPath('../data/raw/dominican-republic.txt'),\n",
       " PosixPath('../data/raw/ecuador.txt'),\n",
       " PosixPath('../data/raw/egypt.txt'),\n",
       " PosixPath('../data/raw/el-salvador.txt'),\n",
       " PosixPath('../data/raw/equatorial-guinea.txt'),\n",
       " PosixPath('../data/raw/eritrea.txt'),\n",
       " PosixPath('../data/raw/estonia.txt'),\n",
       " PosixPath('../data/raw/ethiopia.txt'),\n",
       " PosixPath('../data/raw/falkland-islands-(islas-malvinas).txt'),\n",
       " PosixPath('../data/raw/faroe-islands.txt'),\n",
       " PosixPath('../data/raw/federated-states-of-micronesia.txt'),\n",
       " PosixPath('../data/raw/fiji.txt'),\n",
       " PosixPath('../data/raw/finland.txt'),\n",
       " PosixPath('../data/raw/france.txt'),\n",
       " PosixPath('../data/raw/french-guiana.txt'),\n",
       " PosixPath('../data/raw/french-polynesia.txt'),\n",
       " PosixPath('../data/raw/french-southern-and-antarctic-lands.txt'),\n",
       " PosixPath('../data/raw/gabon.txt'),\n",
       " PosixPath('../data/raw/gambia.txt'),\n",
       " PosixPath('../data/raw/gaza-strip.txt'),\n",
       " PosixPath('../data/raw/georgia.txt'),\n",
       " PosixPath('../data/raw/germany.txt'),\n",
       " PosixPath('../data/raw/ghana.txt'),\n",
       " PosixPath('../data/raw/greece.txt'),\n",
       " PosixPath('../data/raw/greenland.txt'),\n",
       " PosixPath('../data/raw/grenada.txt'),\n",
       " PosixPath('../data/raw/guadeloupe.txt'),\n",
       " PosixPath('../data/raw/guam.txt'),\n",
       " PosixPath('../data/raw/guatemala.txt'),\n",
       " PosixPath('../data/raw/guernsey.txt'),\n",
       " PosixPath('../data/raw/guinea-bissau.txt'),\n",
       " PosixPath('../data/raw/guinea.txt'),\n",
       " PosixPath('../data/raw/guyana.txt'),\n",
       " PosixPath('../data/raw/haiti.txt'),\n",
       " PosixPath('../data/raw/heard-island-and-mcdonald-islands.txt'),\n",
       " PosixPath('../data/raw/honduras.txt'),\n",
       " PosixPath('../data/raw/hong-kong.txt'),\n",
       " PosixPath('../data/raw/hungary.txt'),\n",
       " PosixPath('../data/raw/iceland.txt'),\n",
       " PosixPath('../data/raw/india.txt'),\n",
       " PosixPath('../data/raw/indonesia.txt'),\n",
       " PosixPath('../data/raw/iran.txt'),\n",
       " PosixPath('../data/raw/iraq.txt'),\n",
       " PosixPath('../data/raw/ireland.txt'),\n",
       " PosixPath('../data/raw/isle-of-man.txt'),\n",
       " PosixPath('../data/raw/israel.txt'),\n",
       " PosixPath('../data/raw/italy.txt'),\n",
       " PosixPath('../data/raw/jamaica.txt'),\n",
       " PosixPath('../data/raw/japan.txt'),\n",
       " PosixPath('../data/raw/jersey.txt'),\n",
       " PosixPath('../data/raw/jordan.txt'),\n",
       " PosixPath('../data/raw/kazakhstan.txt'),\n",
       " PosixPath('../data/raw/kenya.txt'),\n",
       " PosixPath('../data/raw/kingman-reef.txt'),\n",
       " PosixPath('../data/raw/kiribati.txt'),\n",
       " PosixPath('../data/raw/kuwait.txt'),\n",
       " PosixPath('../data/raw/kyrgyzstan.txt'),\n",
       " PosixPath('../data/raw/laos.txt'),\n",
       " PosixPath('../data/raw/latvia.txt'),\n",
       " PosixPath('../data/raw/lebanon.txt'),\n",
       " PosixPath('../data/raw/lesotho.txt'),\n",
       " PosixPath('../data/raw/liberia.txt'),\n",
       " PosixPath('../data/raw/libya.txt'),\n",
       " PosixPath('../data/raw/liechtenstein.txt'),\n",
       " PosixPath('../data/raw/lithuania.txt'),\n",
       " PosixPath('../data/raw/luxembourg.txt'),\n",
       " PosixPath('../data/raw/macau.txt'),\n",
       " PosixPath('../data/raw/macedonia.txt'),\n",
       " PosixPath('../data/raw/madagascar.txt'),\n",
       " PosixPath('../data/raw/malawi.txt'),\n",
       " PosixPath('../data/raw/malaysia.txt'),\n",
       " PosixPath('../data/raw/mali.txt'),\n",
       " PosixPath('../data/raw/malta.txt'),\n",
       " PosixPath('../data/raw/martinique.txt'),\n",
       " PosixPath('../data/raw/mauritania.txt'),\n",
       " PosixPath('../data/raw/mauritius.txt'),\n",
       " PosixPath('../data/raw/mayotte.txt'),\n",
       " PosixPath('../data/raw/mexico.txt'),\n",
       " PosixPath('../data/raw/moldova.txt'),\n",
       " PosixPath('../data/raw/monaco.txt'),\n",
       " PosixPath('../data/raw/mongolia.txt'),\n",
       " PosixPath('../data/raw/montenegro.txt'),\n",
       " PosixPath('../data/raw/montserrat.txt'),\n",
       " PosixPath('../data/raw/morocco.txt'),\n",
       " PosixPath('../data/raw/mozambique.txt'),\n",
       " PosixPath('../data/raw/namibia.txt'),\n",
       " PosixPath('../data/raw/nepal.txt'),\n",
       " PosixPath('../data/raw/netherlands.txt'),\n",
       " PosixPath('../data/raw/new-caledonia.txt'),\n",
       " PosixPath('../data/raw/new-zealand.txt'),\n",
       " PosixPath('../data/raw/nicaragua.txt'),\n",
       " PosixPath('../data/raw/niger.txt'),\n",
       " PosixPath('../data/raw/nigeria.txt'),\n",
       " PosixPath('../data/raw/niue.txt'),\n",
       " PosixPath('../data/raw/north-korea.txt'),\n",
       " PosixPath('../data/raw/northern-mariana-islands.txt'),\n",
       " PosixPath('../data/raw/norway.txt'),\n",
       " PosixPath('../data/raw/oman.txt'),\n",
       " PosixPath('../data/raw/pakistan.txt'),\n",
       " PosixPath('../data/raw/palau.txt'),\n",
       " PosixPath('../data/raw/palestina.txt'),\n",
       " PosixPath('../data/raw/palmyra-atoll.txt'),\n",
       " PosixPath('../data/raw/panama.txt'),\n",
       " PosixPath('../data/raw/papua-new-guinea.txt'),\n",
       " PosixPath('../data/raw/paraguay.txt'),\n",
       " PosixPath('../data/raw/peru.txt'),\n",
       " PosixPath('../data/raw/philippines.txt'),\n",
       " PosixPath('../data/raw/poland.txt'),\n",
       " PosixPath('../data/raw/portugal.txt'),\n",
       " PosixPath('../data/raw/puerto-rico.txt'),\n",
       " PosixPath('../data/raw/qatar.txt'),\n",
       " PosixPath('../data/raw/reunion.txt'),\n",
       " PosixPath('../data/raw/romania.txt'),\n",
       " PosixPath('../data/raw/russia.txt'),\n",
       " PosixPath('../data/raw/rwanda.txt'),\n",
       " PosixPath('../data/raw/saint-barthélemy.txt'),\n",
       " PosixPath('../data/raw/saint-kitts-and-nevis.txt'),\n",
       " PosixPath('../data/raw/saint-lucia.txt'),\n",
       " PosixPath('../data/raw/saint-martin.txt'),\n",
       " PosixPath('../data/raw/saint-pierre-and-miquelon.txt'),\n",
       " PosixPath('../data/raw/saint-vincent-and-the-grenadines.txt'),\n",
       " PosixPath('../data/raw/samoa.txt'),\n",
       " PosixPath('../data/raw/san-marino.txt'),\n",
       " PosixPath('../data/raw/sao-tome-and-principe.txt'),\n",
       " PosixPath('../data/raw/saudi-arabia.txt'),\n",
       " PosixPath('../data/raw/senegal.txt'),\n",
       " PosixPath('../data/raw/serbia.txt'),\n",
       " PosixPath('../data/raw/seychelles.txt'),\n",
       " PosixPath('../data/raw/sierra-leone.txt'),\n",
       " PosixPath('../data/raw/singapore.txt'),\n",
       " PosixPath('../data/raw/sint-maarten.txt'),\n",
       " PosixPath('../data/raw/slovakia.txt'),\n",
       " PosixPath('../data/raw/slovenia.txt'),\n",
       " PosixPath('../data/raw/solomon-islands.txt'),\n",
       " PosixPath('../data/raw/somalia.txt'),\n",
       " PosixPath('../data/raw/south-africa.txt'),\n",
       " PosixPath('../data/raw/south-georgia-and-the-south-sandwich-isla.txt'),\n",
       " PosixPath('../data/raw/south-korea.txt'),\n",
       " PosixPath('../data/raw/spain.txt'),\n",
       " PosixPath('../data/raw/sri-lanka.txt'),\n",
       " PosixPath('../data/raw/sudan.txt'),\n",
       " PosixPath('../data/raw/suriname.txt'),\n",
       " PosixPath('../data/raw/svalbard-and-jan-mayen.txt'),\n",
       " PosixPath('../data/raw/swaziland.txt'),\n",
       " PosixPath('../data/raw/sweden.txt'),\n",
       " PosixPath('../data/raw/switzerland.txt'),\n",
       " PosixPath('../data/raw/syria.txt'),\n",
       " PosixPath('../data/raw/taiwan.txt'),\n",
       " PosixPath('../data/raw/tajikistan.txt'),\n",
       " PosixPath('../data/raw/tanzania.txt'),\n",
       " PosixPath('../data/raw/thailand.txt'),\n",
       " PosixPath('../data/raw/timor-leste.txt'),\n",
       " PosixPath('../data/raw/togo.txt'),\n",
       " PosixPath('../data/raw/tonga.txt'),\n",
       " PosixPath('../data/raw/trinidad-and-tobago.txt'),\n",
       " PosixPath('../data/raw/tunisia.txt'),\n",
       " PosixPath('../data/raw/turkey.txt'),\n",
       " PosixPath('../data/raw/turkmenistan.txt'),\n",
       " PosixPath('../data/raw/turks-and-caicas-islands.txt'),\n",
       " PosixPath('../data/raw/uganda.txt'),\n",
       " PosixPath('../data/raw/ukraine.txt'),\n",
       " PosixPath('../data/raw/united-arab-emirates.txt'),\n",
       " PosixPath('../data/raw/united-kingdom.txt'),\n",
       " PosixPath('../data/raw/united-states.txt'),\n",
       " PosixPath('../data/raw/uruguay.txt'),\n",
       " PosixPath('../data/raw/uzbekistan.txt'),\n",
       " PosixPath('../data/raw/venezuela.txt'),\n",
       " PosixPath('../data/raw/vietnam.txt'),\n",
       " PosixPath('../data/raw/virgin-islands.txt'),\n",
       " PosixPath('../data/raw/western-sahara.txt'),\n",
       " PosixPath('../data/raw/yemen.txt'),\n",
       " PosixPath('../data/raw/zambia.txt'),\n",
       " PosixPath('../data/raw/zimbabwe.txt'),\n",
       " PosixPath('../data/raw/åland.txt')]"
      ]
     },
     "execution_count": 9,
     "metadata": {},
     "output_type": "execute_result"
    }
   ],
   "source": [
    "sorted(output_dir.glob(\"*.txt\"))"
   ]
  }
 ],
 "metadata": {
  "kernelspec": {
   "display_name": "Python [conda env:global-temperature-data]",
   "language": "python",
   "name": "conda-env-global-temperature-data-py"
  },
  "language_info": {
   "codemirror_mode": {
    "name": "ipython",
    "version": 3
   },
   "file_extension": ".py",
   "mimetype": "text/x-python",
   "name": "python",
   "nbconvert_exporter": "python",
   "pygments_lexer": "ipython3",
   "version": "3.8.0"
  }
 },
 "nbformat": 4,
 "nbformat_minor": 4
}
