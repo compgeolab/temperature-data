{
 "cells": [
  {
   "cell_type": "markdown",
   "metadata": {},
   "source": [
    "# Clean up the data and save it to CSV files"
   ]
  },
  {
   "cell_type": "markdown",
   "metadata": {},
   "source": [
    "Make a version with a better header and UTF-8 encoding."
   ]
  },
  {
   "cell_type": "code",
   "execution_count": 1,
   "metadata": {},
   "outputs": [],
   "source": [
    "from pathlib import Path\n",
    "import shutil\n",
    "import datetime\n",
    "import numpy as np\n",
    "import pandas as pd\n",
    "import matplotlib.pyplot as plt"
   ]
  },
  {
   "cell_type": "code",
   "execution_count": 2,
   "metadata": {},
   "outputs": [],
   "source": [
    "data_dir = Path(\"../data/raw/\")\n",
    "out_dir = Path(\"../data/processed\")\n",
    "out_dir.mkdir(exist_ok=True, parents=True)"
   ]
  },
  {
   "cell_type": "code",
   "execution_count": 3,
   "metadata": {},
   "outputs": [
    {
     "name": "stdout",
     "output_type": "stream",
     "text": [
      "229\n"
     ]
    }
   ],
   "source": [
    "data_files = sorted(data_dir.glob(\"*.txt\"))\n",
    "print(len(data_files))"
   ]
  },
  {
   "cell_type": "markdown",
   "metadata": {},
   "source": [
    "Load all the files with Pandas and calculate the decimal year and the absolute temperature."
   ]
  },
  {
   "cell_type": "code",
   "execution_count": 4,
   "metadata": {},
   "outputs": [],
   "source": [
    "data_raw = {}\n",
    "for data_file in data_files:\n",
    "    with open(data_file, encoding=\"latin1\") as file_pointer:\n",
    "        for line in file_pointer:\n",
    "            if \"Estimated Jan 1951-Dec 1980 absolute temperature (C):\" in line:\n",
    "                components = line.split(\":\")[1].split(\"+/-\")\n",
    "                assert len(components) == 2\n",
    "                absolute_temperature = float(components[0])\n",
    "                break\n",
    "        else:\n",
    "            raise ValueError(f\"Abolute temperature not found for {data_file}\")\n",
    "        datum = pd.read_csv(\n",
    "            file_pointer,\n",
    "            sep=\"\\s+\",\n",
    "            comment=\"%\",\n",
    "            usecols=[0, 1, 2, 3],\n",
    "            names=\"year month anomaly uncertainty_C\".split(),\n",
    "        )\n",
    "        # 0.5 so that the data falls on the middle of the month\n",
    "        datum[\"year_decimal\"] = datum.year + 1 / 12 * (datum.month - 0.5)\n",
    "        datum[\"temperature_C\"] = datum.anomaly + absolute_temperature\n",
    "        data_raw[data_file.name[:-4]] = datum"
   ]
  },
  {
   "cell_type": "markdown",
   "metadata": {},
   "source": [
    "Keep only the files that have no data gaps since the 1940s. This will make it easier for students to calculate things like \"mean of the past 10 years\" and such."
   ]
  },
  {
   "cell_type": "code",
   "execution_count": 5,
   "metadata": {},
   "outputs": [
    {
     "name": "stdout",
     "output_type": "stream",
     "text": [
      "225\n"
     ]
    }
   ],
   "source": [
    "data_no_gaps = {}\n",
    "start_year = 1940\n",
    "for country in data_raw:\n",
    "    recent = data_raw[country].year_decimal >= start_year\n",
    "    if not np.any(np.isnan(data_raw[country].temperature_C[recent])):\n",
    "        data_no_gaps[country] = data_raw[country]\n",
    "print(len(data_no_gaps))"
   ]
  },
  {
   "cell_type": "markdown",
   "metadata": {},
   "source": [
    "Remove any NaNs from the data."
   ]
  },
  {
   "cell_type": "code",
   "execution_count": 6,
   "metadata": {},
   "outputs": [],
   "source": [
    "data_no_nans = {}\n",
    "for country in data_no_gaps:\n",
    "    data_no_nans[country] = data_no_gaps[country].dropna()"
   ]
  },
  {
   "cell_type": "markdown",
   "metadata": {},
   "source": [
    "Save the data to CSVs."
   ]
  },
  {
   "cell_type": "code",
   "execution_count": 7,
   "metadata": {},
   "outputs": [],
   "source": [
    "today = datetime.date.today().isoformat()\n",
    "for country in data_no_nans:\n",
    "    out_fname = out_dir / f\"{country}.csv\"\n",
    "    country_name = country.replace(\"-\", \" \").title()\n",
    "    with open(out_fname, \"w\") as out_file:\n",
    "        out_file.writelines([\n",
    "            f\"# Monthly average temperature data for {country_name}.\\n\",\n",
    "            \"# Original data from Berkeley Earth (https://www.berkeleyearth.org) licensed CC-BY-NC.\\n\",\n",
    "            \"# Processed to remove NaNs, include decimal year, convert temperature anomaly to absolute temperature, CVS format with UTF-8 encoding.\\n\"\n",
    "            \"# The year_decimal assumes every month is 1/12 of a year and assigns the datum to the middle of the month.\\n\",\n",
    "            f\"# Downloaded and processed: {today}\\n\"\n",
    "        ])\n",
    "        data_no_nans[country].to_csv(\n",
    "            out_file,       \n",
    "            float_format=\"%.3f\",\n",
    "            columns=\"year month year_decimal temperature_C uncertainty_C\".split(),\n",
    "            index=False,\n",
    "        )"
   ]
  },
  {
   "cell_type": "markdown",
   "metadata": {},
   "source": [
    "Check that the files look OK."
   ]
  },
  {
   "cell_type": "code",
   "execution_count": 8,
   "metadata": {},
   "outputs": [
    {
     "name": "stdout",
     "output_type": "stream",
     "text": [
      "# Monthly average temperature data for Sri Lanka.\n",
      "# Original data from Berkeley Earth (https://www.berkeleyearth.org) licensed CC-BY-NC.\n",
      "# Processed to remove NaNs, include decimal year, convert temperature anomaly to absolute temperature, CVS format with UTF-8 encoding.\n",
      "# The year_decimal assumes every month is 1/12 of a year and assigns the datum to the middle of the month.\n",
      "# Downloaded and processed: 2025-02-11\n",
      "year,month,year_decimal,temperature_C,uncertainty_C\n",
      "1796,1,1796.042,27.581,3.411\n",
      "1796,2,1796.125,27.389,2.813\n",
      "1796,3,1796.208,25.979,1.908\n",
      "1796,4,1796.292,26.581,1.574\n"
     ]
    }
   ],
   "source": [
    "with open(out_dir / \"sri-lanka.csv\") as f:\n",
    "    for line, i in zip(f, range(10)):\n",
    "        print(line, end=\"\")"
   ]
  },
  {
   "cell_type": "markdown",
   "metadata": {},
   "source": [
    "Add a README to the processed data folder."
   ]
  },
  {
   "cell_type": "code",
   "execution_count": 9,
   "metadata": {},
   "outputs": [
    {
     "name": "stdout",
     "output_type": "stream",
     "text": [
      "# Monthly average temperature data for the world\n",
      "\n",
      "These data are a subset of the original data files from \n",
      "[Berkeley Earth](https://www.berkeleyearth.org) licensed CC-BY-NC.\n",
      "\n",
      "This archive contains monthly average temperature records for several countries\n",
      "(see list below). The data for each country is contained in a CSV file with the\n",
      "year, month, decimal year, temperature (C), and uncertainty (C). The temperature \n",
      "is the country-wide average for each month of the year. The decimal year assumes \n",
      "every month is 1/12 of a year and assigns the datum to the middle of the month.\n",
      "\n",
      "The original data were processed to remove NaNs, include the decimal year, \n",
      "convert temperature anomaly to absolute temperature, and format the data as CVS\n",
      "with UTF-8 encoding.\n",
      "\n",
      "Downloaded and processed: 2025-02-11\n",
      "\n",
      "## License\n",
      "\n",
      "The data distributed here are made available under the\n",
      "[Creative Commons Attribution-NonCommercial 4.0 International license](https://creativecommons.org/licenses/by-nc/4.0/)\n",
      "(CC-BY-NC).\n",
      "Please credit the original authors of the data (Berkeley Earth) as well as \n",
      "Leonardo Uieda when using this work. \n",
      "Please include links to https://www.berkeleyearth.org and https://github.com/compgeolab/temperature-data.\n",
      "\n",
      "## List of countries included\n",
      "\n",
      "* Afghanistan\n",
      "* Albania\n",
      "* Algeria\n",
      "* American Samoa\n",
      "* Andorra\n",
      "* Angola\n",
      "* Anguilla\n",
      "* Antarctica\n",
      "* Antigua And Barbuda\n",
      "* Argentina\n",
      "* Armenia\n",
      "* Aruba\n",
      "* Australia\n",
      "* Austria\n",
      "* Azerbaijan\n",
      "* Bahamas\n",
      "* Bahrain\n",
      "* Baker Island\n",
      "* Bangladesh\n",
      "* Barbados\n",
      "* Belarus\n",
      "* Belgium\n",
      "* Belize\n",
      "* Benin\n",
      "* Bhutan\n",
      "* Bolivia\n",
      "* Bonaire, Saint Eustatius And Saba\n",
      "* Bosnia And Herzegovina\n",
      "* Botswana\n",
      "* Brazil\n",
      "* British Virgin Islands\n",
      "* Bulgaria\n",
      "* Burkina Faso\n",
      "* Burma\n",
      "* Burundi\n",
      "* Cambodia\n",
      "* Cameroon\n",
      "* Canada\n",
      "* Cape Verde\n",
      "* Cayman Islands\n",
      "* Central African Republic\n",
      "* Chad\n",
      "* Chile\n",
      "* China\n",
      "* Christmas Island\n",
      "* Colombia\n",
      "* Comoros\n",
      "* Congo (Democratic Republic Of The)\n",
      "* Congo\n",
      "* Costa Rica\n",
      "* Croatia\n",
      "* Cuba\n",
      "* Cyprus\n",
      "* Czech Republic\n",
      "* Denmark\n",
      "* Djibouti\n",
      "* Dominica\n",
      "* Dominican Republic\n",
      "* Ecuador\n",
      "* Egypt\n",
      "* El Salvador\n",
      "* Equatorial Guinea\n",
      "* Eritrea\n",
      "* Estonia\n",
      "* Ethiopia\n",
      "* Falkland Islands (Islas Malvinas)\n",
      "* Faroe Islands\n",
      "* Fiji\n",
      "* Finland\n",
      "* France\n",
      "* French Guiana\n",
      "* French Polynesia\n",
      "* French Southern And Antarctic Lands\n",
      "* Gabon\n",
      "* Gambia\n",
      "* Gaza Strip\n",
      "* Georgia\n",
      "* Germany\n",
      "* Ghana\n",
      "* Greece\n",
      "* Greenland\n",
      "* Grenada\n",
      "* Guadeloupe\n",
      "* Guatemala\n",
      "* Guernsey\n",
      "* Guinea Bissau\n",
      "* Guinea\n",
      "* Guyana\n",
      "* Haiti\n",
      "* Heard Island And Mcdonald Islands\n",
      "* Honduras\n",
      "* Hong Kong\n",
      "* Hungary\n",
      "* Iceland\n",
      "* India\n",
      "* Indonesia\n",
      "* Iran\n",
      "* Iraq\n",
      "* Ireland\n",
      "* Isle Of Man\n",
      "* Israel\n",
      "* Italy\n",
      "* Jamaica\n",
      "* Japan\n",
      "* Jersey\n",
      "* Jordan\n",
      "* Kazakhstan\n",
      "* Kenya\n",
      "* Kingman Reef\n",
      "* Kuwait\n",
      "* Kyrgyzstan\n",
      "* Laos\n",
      "* Latvia\n",
      "* Lebanon\n",
      "* Lesotho\n",
      "* Liberia\n",
      "* Libya\n",
      "* Liechtenstein\n",
      "* Lithuania\n",
      "* Luxembourg\n",
      "* Macau\n",
      "* Macedonia\n",
      "* Madagascar\n",
      "* Malawi\n",
      "* Malaysia\n",
      "* Mali\n",
      "* Malta\n",
      "* Martinique\n",
      "* Mauritania\n",
      "* Mauritius\n",
      "* Mayotte\n",
      "* Mexico\n",
      "* Moldova\n",
      "* Monaco\n",
      "* Mongolia\n",
      "* Montenegro\n",
      "* Montserrat\n",
      "* Morocco\n",
      "* Mozambique\n",
      "* Namibia\n",
      "* Nepal\n",
      "* Netherlands\n",
      "* New Caledonia\n",
      "* New Zealand\n",
      "* Nicaragua\n",
      "* Niger\n",
      "* Nigeria\n",
      "* Niue\n",
      "* North Korea\n",
      "* Northern Mariana Islands\n",
      "* Norway\n",
      "* Oman\n",
      "* Pakistan\n",
      "* Palestina\n",
      "* Palmyra Atoll\n",
      "* Panama\n",
      "* Papua New Guinea\n",
      "* Paraguay\n",
      "* Peru\n",
      "* Philippines\n",
      "* Poland\n",
      "* Portugal\n",
      "* Puerto Rico\n",
      "* Qatar\n",
      "* Reunion\n",
      "* Romania\n",
      "* Russia\n",
      "* Rwanda\n",
      "* Saint Kitts And Nevis\n",
      "* Saint Lucia\n",
      "* Saint Martin\n",
      "* Saint Pierre And Miquelon\n",
      "* Saint Vincent And The Grenadines\n",
      "* Samoa\n",
      "* San Marino\n",
      "* Sao Tome And Principe\n",
      "* Saudi Arabia\n",
      "* Senegal\n",
      "* Serbia\n",
      "* Seychelles\n",
      "* Sierra Leone\n",
      "* Singapore\n",
      "* Sint Maarten\n",
      "* Slovakia\n",
      "* Slovenia\n",
      "* Solomon Islands\n",
      "* Somalia\n",
      "* South Africa\n",
      "* South Georgia And The South Sandwich Isla\n",
      "* South Korea\n",
      "* Spain\n",
      "* Sri Lanka\n",
      "* Sudan\n",
      "* Suriname\n",
      "* Svalbard And Jan Mayen\n",
      "* Swaziland\n",
      "* Sweden\n",
      "* Switzerland\n",
      "* Syria\n",
      "* Taiwan\n",
      "* Tajikistan\n",
      "* Tanzania\n",
      "* Thailand\n",
      "* Timor Leste\n",
      "* Togo\n",
      "* Tonga\n",
      "* Trinidad And Tobago\n",
      "* Tunisia\n",
      "* Turkey\n",
      "* Turkmenistan\n",
      "* Turks And Caicas Islands\n",
      "* Uganda\n",
      "* Ukraine\n",
      "* United Arab Emirates\n",
      "* United Kingdom\n",
      "* United States\n",
      "* Uruguay\n",
      "* Uzbekistan\n",
      "* Venezuela\n",
      "* Vietnam\n",
      "* Virgin Islands\n",
      "* Western Sahara\n",
      "* Yemen\n",
      "* Zambia\n",
      "* Zimbabwe\n"
     ]
    }
   ],
   "source": [
    "country_list = \"\\n\".join([f\"* {name.replace('-', ' ').title()}\" for name in data_no_nans])\n",
    "readme = f\"\"\"\n",
    "# Monthly average temperature data for the world\n",
    "\n",
    "These data are a subset of the original data files from \n",
    "[Berkeley Earth](https://www.berkeleyearth.org) licensed CC-BY-NC.\n",
    "\n",
    "This archive contains monthly average temperature records for several countries\n",
    "(see list below). The data for each country is contained in a CSV file with the\n",
    "year, month, decimal year, temperature (C), and uncertainty (C). The temperature \n",
    "is the country-wide average for each month of the year. The decimal year assumes \n",
    "every month is 1/12 of a year and assigns the datum to the middle of the month.\n",
    "\n",
    "The original data were processed to remove NaNs, include the decimal year, \n",
    "convert temperature anomaly to absolute temperature, and format the data as CVS\n",
    "with UTF-8 encoding.\n",
    "\n",
    "Downloaded and processed: {today}\n",
    "\n",
    "## License\n",
    "\n",
    "The data distributed here are made available under the\n",
    "[Creative Commons Attribution-NonCommercial 4.0 International license](https://creativecommons.org/licenses/by-nc/4.0/)\n",
    "(CC-BY-NC).\n",
    "Please credit the original authors of the data (Berkeley Earth) as well as \n",
    "Leonardo Uieda when using this work. \n",
    "Please include links to https://www.berkeleyearth.org and https://github.com/compgeolab/temperature-data.\n",
    "\n",
    "## List of countries included\n",
    "\n",
    "{country_list}\n",
    "\"\"\".strip()\n",
    "(out_dir / \"README.md\").write_text(readme)\n",
    "print(readme)"
   ]
  },
  {
   "cell_type": "markdown",
   "metadata": {},
   "source": [
    "Create a zip archive or the data."
   ]
  },
  {
   "cell_type": "code",
   "execution_count": 10,
   "metadata": {},
   "outputs": [],
   "source": [
    "_ = shutil.make_archive(\n",
    "    base_name=str(out_dir.parent / \"temperature-data\"), \n",
    "    format=\"zip\", \n",
    "    root_dir=out_dir\n",
    ")"
   ]
  }
 ],
 "metadata": {
  "kernelspec": {
   "display_name": "Python [conda env:default] *",
   "language": "python",
   "name": "conda-env-default-py"
  },
  "language_info": {
   "codemirror_mode": {
    "name": "ipython",
    "version": 3
   },
   "file_extension": ".py",
   "mimetype": "text/x-python",
   "name": "python",
   "nbconvert_exporter": "python",
   "pygments_lexer": "ipython3",
   "version": "3.11.0"
  }
 },
 "nbformat": 4,
 "nbformat_minor": 4
}
